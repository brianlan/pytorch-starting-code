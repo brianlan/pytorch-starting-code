{
 "cells": [
  {
   "cell_type": "markdown",
   "metadata": {},
   "source": [
    "## Preparation"
   ]
  },
  {
   "cell_type": "code",
   "execution_count": 2,
   "metadata": {},
   "outputs": [],
   "source": [
    "import torch\n",
    "from torch.utils.data import DataLoader\n",
    "\n",
    "from network import MyNet\n",
    "from dataset import MyDataset\n",
    "from transforms import MyTransform\n",
    "from loss import my_loss\n",
    "from helpers import calculate_performance\n",
    "\n",
    "cuda_available = torch.cuda.is_available()"
   ]
  },
  {
   "cell_type": "code",
   "execution_count": null,
   "metadata": {},
   "outputs": [],
   "source": [
    "MODEL_PATH = 'path-to-trained-model.pth'"
   ]
  },
  {
   "cell_type": "code",
   "execution_count": 5,
   "metadata": {},
   "outputs": [],
   "source": [
    "####################\n",
    "# Define dataset\n",
    "####################\n",
    "dataset = MyDataset('test-data-location')\n",
    "\n",
    "####################\n",
    "# Define DataLoader\n",
    "####################\n",
    "dataloader = DataLoader(dataset, batch_size=1, shuffle=False, num_workers=2)\n",
    "\n",
    "####################\n",
    "# Define Network\n",
    "####################\n",
    "net = MyNet()\n",
    "checkpoint = torch.load(MODEL_PATH)\n",
    "net.load_state_dict(checkpoint, strict=False)\n",
    "if cuda_available:\n",
    "    net = net.cuda()\n",
    "\n",
    "########################\n",
    "# Define Loss Function\n",
    "########################\n",
    "loss_fn = my_loss"
   ]
  },
  {
   "cell_type": "markdown",
   "metadata": {},
   "source": [
    "## Testing"
   ]
  },
  {
   "cell_type": "code",
   "execution_count": null,
   "metadata": {},
   "outputs": [],
   "source": [
    "model.eval()\n",
    "test_losses = []\n",
    "test_performances = []\n",
    "with torch.no_grad():\n",
    "    for i, (images, labels) in enumerate(dataloader):\n",
    "        if cuda_available:\n",
    "            images = images.cuda()\n",
    "            labels = labels.cuda()\n",
    "\n",
    "        pred = net(images)\n",
    "        test_loss.append(loss_fn(pred, labels))\n",
    "        test_performances.append(calculate_performance(pred, labels))\n",
    "\n",
    "###############################################\n",
    "# Print Test Loss and Performance here\n",
    "###############################################\n",
    "pass\n",
    "\n"
   ]
  },
  {
   "cell_type": "code",
   "execution_count": null,
   "metadata": {},
   "outputs": [],
   "source": []
  }
 ],
 "metadata": {
  "kernelspec": {
   "display_name": "Python 3",
   "language": "python",
   "name": "python3"
  },
  "language_info": {
   "codemirror_mode": {
    "name": "ipython",
    "version": 3
   },
   "file_extension": ".py",
   "mimetype": "text/x-python",
   "name": "python",
   "nbconvert_exporter": "python",
   "pygments_lexer": "ipython3",
   "version": "3.7.0"
  }
 },
 "nbformat": 4,
 "nbformat_minor": 2
}
