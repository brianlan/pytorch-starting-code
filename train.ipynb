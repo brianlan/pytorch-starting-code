{
 "cells": [
  {
   "cell_type": "markdown",
   "metadata": {},
   "source": [
    "# Pytorch Starting Code"
   ]
  },
  {
   "cell_type": "markdown",
   "metadata": {},
   "source": [
    "## Preparation"
   ]
  },
  {
   "cell_type": "code",
   "execution_count": 7,
   "metadata": {},
   "outputs": [],
   "source": [
    "import torch\n",
    "from torch.utils.data import DataLoader\n",
    "\n",
    "from network import MyNet\n",
    "from dataset import MyDataset\n",
    "from transforms import MyTransform\n",
    "from loss import my_loss\n",
    "from helpers import calculate_performance\n",
    "\n",
    "cuda_available = torch.cuda.is_available()"
   ]
  },
  {
   "cell_type": "code",
   "execution_count": 2,
   "metadata": {},
   "outputs": [],
   "source": [
    "################################\n",
    "# Define Global Variables here \n",
    "################################\n",
    "BATCH_SIZE = 4\n",
    "MAX_EPOCHS = 10\n",
    "INIT_LR = 0.001\n",
    "LR_DROP_MILESTONES = [4, 8]"
   ]
  },
  {
   "cell_type": "code",
   "execution_count": 3,
   "metadata": {},
   "outputs": [],
   "source": [
    "####################\n",
    "# Define dataset\n",
    "####################\n",
    "dataset = MyDataset()\n",
    "\n",
    "####################\n",
    "# Define DataLoader\n",
    "####################\n",
    "dataloader = DataLoader(dataset, batch_size=BATCH_SIZE, shuffle=True, num_workers=4)\n",
    "\n",
    "####################\n",
    "# Define Network\n",
    "####################\n",
    "net = MyNet()\n",
    "if cuda_available:\n",
    "    net = net.cuda()\n",
    "\n",
    "########################\n",
    "# Define Loss Function\n",
    "########################\n",
    "loss_fn = my_loss\n",
    "\n",
    "####################\n",
    "# Define Optimizer\n",
    "####################\n",
    "optimizer = torch.optim.Adam(net.parameters())\n",
    "\n",
    "##################################\n",
    "# Define Learning Rate Scheduler\n",
    "##################################\n",
    "lr_scheduler = torch.optim.lr_scheduler.MultiStepLR(optimizer, LR_DROP_MILESTONES)"
   ]
  },
  {
   "cell_type": "markdown",
   "metadata": {},
   "source": [
    "## Training"
   ]
  },
  {
   "cell_type": "code",
   "execution_count": null,
   "metadata": {},
   "outputs": [],
   "source": [
    "for epoch in range(MAX_EPOCHS):\n",
    "    for i, (images, labels) in enumerate(dataloader): \n",
    "        optimizer.zero_grad()\n",
    "        model.train()\n",
    "        \n",
    "        if cuda_available:\n",
    "            images = images.cuda()\n",
    "            labels = labels.cuda()\n",
    "        \n",
    "        pred = net(images)\n",
    "        loss = loss_fn(pred, labels)\n",
    "        \n",
    "        loss.backward()\n",
    "        optimizer.step()\n",
    "        \n",
    "        ##############################################################\n",
    "        # Your can print loss here to see the progress of training\n",
    "        ##############################################################\n",
    "        pass\n",
    "    \n",
    "    lr_scheduler.step(epoch + 1)\n",
    "    performance = calculate_performance(pred, labels)\n"
   ]
  },
  {
   "cell_type": "code",
   "execution_count": null,
   "metadata": {},
   "outputs": [],
   "source": []
  }
 ],
 "metadata": {
  "kernelspec": {
   "display_name": "Python 3",
   "language": "python",
   "name": "python3"
  },
  "language_info": {
   "codemirror_mode": {
    "name": "ipython",
    "version": 3
   },
   "file_extension": ".py",
   "mimetype": "text/x-python",
   "name": "python",
   "nbconvert_exporter": "python",
   "pygments_lexer": "ipython3",
   "version": "3.7.0"
  }
 },
 "nbformat": 4,
 "nbformat_minor": 2
}
